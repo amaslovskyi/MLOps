{
 "cells": [
  {
   "cell_type": "code",
   "execution_count": 2,
   "metadata": {},
   "outputs": [],
   "source": [
    "from langchain_ollama.llms import OllamaLLM\n",
    "import os"
   ]
  },
  {
   "cell_type": "code",
   "execution_count": 3,
   "metadata": {},
   "outputs": [],
   "source": [
    "llm = OllamaLLM(model=\"llama3.1:latest\")"
   ]
  },
  {
   "cell_type": "code",
   "execution_count": 5,
   "metadata": {},
   "outputs": [],
   "source": [
    "text = \"What would be a good name for a company that makes toys for kids?\""
   ]
  },
  {
   "cell_type": "code",
   "execution_count": 6,
   "metadata": {},
   "outputs": [
    {
     "name": "stdout",
     "output_type": "stream",
     "text": [
      "Here are some ideas for a toy company name that might spark some creativity:\n",
      "\n",
      "1. **Playtopia**: Suggests a fun, imaginative world where kids can play and explore.\n",
      "2. **Joybox Toys**: Conveys the happiness and excitement of playing with their products.\n",
      "3. **Little Dreamers**: Implies that their toys help inspire kids to dream big and imagine great things.\n",
      "4. **Imaginova**: Combines \"imagination\" and \"innovation\" to convey creativity and cutting-edge design.\n",
      "5. **FunZone Toys**: Straightforward and to the point, implying a fun and engaging experience for kids.\n",
      "6. **Creative Cove**: Suggests a safe, welcoming space where kids can express themselves through play.\n",
      "7. **Kiddie Craft Co.**: Emphasizes the artisanal aspect of their toys and encourages a sense of craftsmanship.\n",
      "8. **Playful Pioneers**: Conveys adventure, exploration, and a spirit of discovery.\n",
      "9. **Sparkle Toys**: Adds a touch of magic and whimsy to the brand name.\n",
      "10. **WonderWorks Toys**: Suggests a world of wonder and enchantment, where kids can explore and learn.\n",
      "\n",
      "When choosing a company name, consider factors such as:\n",
      "\n",
      "* Brand identity: Aligns with your values, mission, and tone\n",
      "* Memorability: Easy to remember and spell\n",
      "* Uniqueness: Avoids confusion with existing brands or trademarks\n",
      "* Flexibility: Allows for flexibility in branding and marketing efforts\n",
      "\n",
      "Remember to check if the desired name is available as a web domain and social media handle before finalizing your company name. Good luck!\n"
     ]
    }
   ],
   "source": [
    "print(llm.invoke(text))"
   ]
  },
  {
   "cell_type": "code",
   "execution_count": null,
   "metadata": {},
   "outputs": [],
   "source": [
    "from langchain_ollama import ChatOllama\n",
    "from langchain_core.messages import AIMessage\n",
    "import os\n",
    "\n",
    "model = ChatOllama(\n",
    "    model = \"llama3.1:latest\",\n",
    "    temperature = 0.8,\n",
    "    num_predict = 256,\n",
    "    # other params ...\n",
    ")"
   ]
  },
  {
   "cell_type": "code",
   "execution_count": 22,
   "metadata": {},
   "outputs": [],
   "source": [
    "messages =[\n",
    "    (\n",
    "        \"system\",\n",
    "        \"You are a Physics teacher\",\n",
    "    ),\n",
    "    (\n",
    "        \"human\",\n",
    "        \"Explain the concept of Galaxy\",\n",
    "    ),\n",
    "]"
   ]
  },
  {
   "cell_type": "code",
   "execution_count": 23,
   "metadata": {},
   "outputs": [],
   "source": [
    "response = model.invoke(messages)"
   ]
  },
  {
   "cell_type": "code",
   "execution_count": 24,
   "metadata": {},
   "outputs": [
    {
     "name": "stdout",
     "output_type": "stream",
     "text": [
      "Galaxies! They're one of the most fascinating objects in our universe. As a physics teacher, I'd be delighted to explain the concept of galaxies.\n",
      "\n",
      "**What is a Galaxy?**\n",
      "\n",
      "A galaxy is a massive, gravitationally bound system consisting of stars, stellar remnants, interstellar gas, dust, and dark matter, typically dominated by a central supermassive black hole. Galaxies are the building blocks of the universe, and they come in a variety of shapes and sizes.\n",
      "\n",
      "**Types of Galaxies**\n",
      "\n",
      "There are several types of galaxies, including:\n",
      "\n",
      "1. **Spiral Galaxies**: These are the most common type of galaxy, with a disk-shaped structure and spiral arms containing young, blue stars.\n",
      "2. **Elliptical Galaxies**: These are egg-shaped or spherical galaxies that contain older, red stars.\n",
      "3. **Irregular Galaxies**: These have no distinct shape or structure.\n",
      "4. **Dwarf Galaxies**: These are small, compact galaxies with a low number of stars.\n",
      "5. **Active Galactic Nuclei (AGN)**: These galaxies have an active supermassive black hole at their center.\n",
      "\n",
      "**Structure of a Galaxy**\n",
      "\n",
      "A galaxy typically consists of the following components:\n",
      "\n",
      "1. **Halo**: The halo is\n"
     ]
    }
   ],
   "source": [
    "print(response.content)"
   ]
  }
 ],
 "metadata": {
  "kernelspec": {
   "display_name": "llm",
   "language": "python",
   "name": "python3"
  },
  "language_info": {
   "codemirror_mode": {
    "name": "ipython",
    "version": 3
   },
   "file_extension": ".py",
   "mimetype": "text/x-python",
   "name": "python",
   "nbconvert_exporter": "python",
   "pygments_lexer": "ipython3",
   "version": "3.12.8"
  }
 },
 "nbformat": 4,
 "nbformat_minor": 2
}

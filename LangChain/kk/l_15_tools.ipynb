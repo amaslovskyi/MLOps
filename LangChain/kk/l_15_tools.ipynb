{
 "cells": [
  {
   "cell_type": "markdown",
   "metadata": {},
   "source": [
    "## **Using tools**"
   ]
  },
  {
   "cell_type": "markdown",
   "metadata": {},
   "source": [
    "### Wikipedia"
   ]
  },
  {
   "cell_type": "code",
   "execution_count": 1,
   "metadata": {},
   "outputs": [],
   "source": [
    "from langchain_community.tools import WikipediaQueryRun\n",
    "from langchain_community.utilities import WikipediaAPIWrapper"
   ]
  },
  {
   "cell_type": "code",
   "execution_count": 3,
   "metadata": {},
   "outputs": [],
   "source": [
    "api_wrapper = WikipediaAPIWrapper(top_k_results=1, doc_content_chars_max=1000)\n",
    "tool = WikipediaQueryRun(api_wrapper=api_wrapper)"
   ]
  },
  {
   "cell_type": "code",
   "execution_count": 7,
   "metadata": {},
   "outputs": [
    {
     "name": "stdout",
     "output_type": "stream",
     "text": [
      "wikipedia\n",
      "A wrapper around Wikipedia. Useful for when you need to answer general questions about people, places, companies, facts, historical events, or other subjects. Input should be a search query.\n",
      "{'query': {'description': 'query to look up on wikipedia', 'title': 'Query', 'type': 'string'}}\n"
     ]
    }
   ],
   "source": [
    "print(tool.name)\n",
    "print(tool.description)\n",
    "print(tool.args)"
   ]
  },
  {
   "cell_type": "code",
   "execution_count": 6,
   "metadata": {},
   "outputs": [
    {
     "name": "stdout",
     "output_type": "stream",
     "text": [
      "Page: Neural network (machine learning)\n",
      "Summary: In machine learning, a neural network (also artificial neural network or neural net, abbreviated ANN or NN) is a model inspired by the structure and function of biological neural networks in animal brains.\n",
      "A neural network consists of connected units or nodes called artificial neurons, which loosely model the neurons in the brain. Artificial neuron models that mimic biological neurons more closely have also been recently investigated and shown to significantly improve performance. These are connected by edges, which model the synapses in the brain. Each artificial neuron receives signals from connected neurons, then processes them and sends a signal to other connected neurons. The \"signal\" is a real number, and the output of each neuron is computed by some non-linear function of the sum of its inputs, called the activation function. The strength of the signal at each connection is determined by a weight, which adjusts during the learning\n"
     ]
    }
   ],
   "source": [
    "result = tool.invoke({\"query\": \"Neural Network\"})\n",
    "print(result)\n",
    "\n"
   ]
  },
  {
   "cell_type": "markdown",
   "metadata": {},
   "source": [
    "### **Tavily** - search augmented retrieval"
   ]
  },
  {
   "cell_type": "code",
   "execution_count": 10,
   "metadata": {},
   "outputs": [
    {
     "data": {
      "text/plain": [
       "True"
      ]
     },
     "execution_count": 10,
     "metadata": {},
     "output_type": "execute_result"
    }
   ],
   "source": [
    "from langchain_community.tools.tavily_search import TavilySearchResults\n",
    "\n",
    "import getpass\n",
    "import os\n",
    "from dotenv import load_dotenv\n",
    "\n",
    "load_dotenv()"
   ]
  },
  {
   "cell_type": "code",
   "execution_count": 13,
   "metadata": {},
   "outputs": [
    {
     "name": "stdout",
     "output_type": "stream",
     "text": [
      "Key from environment: Found\n"
     ]
    }
   ],
   "source": [
    "# Load the API key from the environment\n",
    "def get_tavily_api_key():\n",
    "    key = os.getenv(\"TAVILY_API_KEY\")\n",
    "    print(f\"Key from environment: {'Found' if key else 'Not found'}\")\n",
    "    if not key:\n",
    "        print(\"Please enter your Tavily API key when prompted:\")\n",
    "        key = getpass.getpass(\"Enter your TAVILY API key: \")\n",
    "        os.environ[\"TAVILY_API_KEY\"] = key\n",
    "    return key\n",
    "\n",
    "# Get the TAVILY API key\n",
    "tavily_api_key = get_tavily_api_key()"
   ]
  },
  {
   "cell_type": "code",
   "execution_count": 14,
   "metadata": {},
   "outputs": [],
   "source": [
    "tool = TavilySearchResults()"
   ]
  },
  {
   "cell_type": "code",
   "execution_count": 15,
   "metadata": {},
   "outputs": [],
   "source": [
    "response = tool.invoke(\"What is the capital of France?\")"
   ]
  },
  {
   "cell_type": "code",
   "execution_count": 16,
   "metadata": {},
   "outputs": [
    {
     "data": {
      "text/plain": [
       "[{'url': 'https://home.adelphi.edu/~ca19535/page%204.html',\n",
       "  'content': 'Paris Paris, France Paris facts: Paris, the capital of France Paris is the capital of France, the largest country of Europe with 550 000 km2 (65 millions inhabitants). Paris is a world capital city of shopping and fashion, with Channel, Dior, Vuitton, Yves Saint Laurent among many other top french fashion brands. Paris facts: the capital of France in history Before Paris, the capital of France was Lyon (under the Romans). Paris first became the capital of France in 508 under King Clovis. After centuries with no unique capital of France, Paris retrieved its status of capital of France under King Philippe Auguste, who reigned between 1180 and 1223. Paris remained the capital of France until today, with one four year interruption.'},\n",
       " {'url': 'https://en.wikipedia.org/wiki/Paris',\n",
       "  'content': 'Paris Paris Paris Paris (French pronunciation: [paʁi] ⓘ) is the capital and largest city of France. With 200,000 inhabitants in 1328, Paris, then already the capital of France, was the most populous city of Europe. In the late 16th-century French Wars of Religion, Paris was a stronghold of the Catholic League, the organisers of 24 August 1572 St. Bartholomew\\'s Day massacre in which thousands of French Protestants were killed.[44][45] The conflicts ended when pretender to the throne Henry IV, after converting to Catholicism to gain entry to the capital, entered the city in 1594 to claim the crown of France. Paris. Paris. \"Paris\"\\xa0. Paris'},\n",
       " {'url': 'https://www.britannica.com/place/France',\n",
       "  'content': 'France | History, Maps, Flag, Population, Cities, Capital, & Facts | Britannica Ask the Chatbot Games & Quizzes History & Society Science & Tech Biographies Animals & Nature Geography & Travel Arts & Culture ProCon Money Videos France The political history of France (c. France from 1180 to 1328 France, 1490–1715 France, 1715–89 France, 1815–1940 France since 1940 France (more) France Historically and culturally among the most important nations in the Western world, France has also played a highly significant role in international affairs, with former colonies in every corner of the globe. France(more) The capital and by far the most important city of France is Paris, one of the world’s preeminent cultural and commercial centres.'},\n",
       " {'url': 'https://www.britannica.com/place/Paris',\n",
       "  'content': 'Paris | Definition, Map, Population, Facts, & History | Britannica Ask the Chatbot Games & Quizzes History & Society Science & Tech Biographies Animals & Nature Geography & Travel Arts & Culture ProCon Money Videos Paris Paris Paris, city and capital of France, situated in the north-central part of the country. Paris(more) For centuries Paris has been one of the world’s most important and attractive cities. In its centuries of growth Paris has for the most part retained the circular shape of the early city. The garden effect of the Seine’s open waters and its tree-lined banks foster in part the appearance of Paris as a city well-endowed with green spaces.'},\n",
       " {'url': 'https://en.wikipedia.org/wiki/France',\n",
       "  'content': \"For roughly two centuries, the French economy has consistently ranked among the ten largest globally; it is currently the world's ninth largest by purchasing power parity, the seventh largest by nominal GDP, and the second largest in the European Union by both metrics.[168] France is considered a great power with considerable economic strength,[169] being a member of the Group of Seven leading industrialised countries, the Organisation for Economic Co-operation and Development (OECD), and the Group of Twenty largest economies.\"}]"
      ]
     },
     "execution_count": 16,
     "metadata": {},
     "output_type": "execute_result"
    }
   ],
   "source": [
    "response"
   ]
  },
  {
   "cell_type": "code",
   "execution_count": 17,
   "metadata": {},
   "outputs": [
    {
     "data": {
      "text/plain": [
       "5"
      ]
     },
     "execution_count": 17,
     "metadata": {},
     "output_type": "execute_result"
    }
   ],
   "source": [
    "len(response)"
   ]
  },
  {
   "cell_type": "code",
   "execution_count": 18,
   "metadata": {},
   "outputs": [
    {
     "data": {
      "text/plain": [
       "'https://home.adelphi.edu/~ca19535/page%204.html'"
      ]
     },
     "execution_count": 18,
     "metadata": {},
     "output_type": "execute_result"
    }
   ],
   "source": [
    "response[0]['url']"
   ]
  },
  {
   "cell_type": "code",
   "execution_count": 19,
   "metadata": {},
   "outputs": [
    {
     "data": {
      "text/plain": [
       "'Paris Paris, France Paris facts: Paris, the capital of France Paris is the capital of France, the largest country of Europe with 550 000 km2 (65 millions inhabitants). Paris is a world capital city of shopping and fashion, with Channel, Dior, Vuitton, Yves Saint Laurent among many other top french fashion brands. Paris facts: the capital of France in history Before Paris, the capital of France was Lyon (under the Romans). Paris first became the capital of France in 508 under King Clovis. After centuries with no unique capital of France, Paris retrieved its status of capital of France under King Philippe Auguste, who reigned between 1180 and 1223. Paris remained the capital of France until today, with one four year interruption.'"
      ]
     },
     "execution_count": 19,
     "metadata": {},
     "output_type": "execute_result"
    }
   ],
   "source": [
    "response[0]['content']"
   ]
  },
  {
   "cell_type": "code",
   "execution_count": null,
   "metadata": {},
   "outputs": [],
   "source": []
  }
 ],
 "metadata": {
  "kernelspec": {
   "display_name": "llm",
   "language": "python",
   "name": "python3"
  },
  "language_info": {
   "codemirror_mode": {
    "name": "ipython",
    "version": 3
   },
   "file_extension": ".py",
   "mimetype": "text/x-python",
   "name": "python",
   "nbconvert_exporter": "python",
   "pygments_lexer": "ipython3",
   "version": "3.12.8"
  }
 },
 "nbformat": 4,
 "nbformat_minor": 2
}

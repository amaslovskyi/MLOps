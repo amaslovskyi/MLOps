{
 "cells": [
  {
   "cell_type": "markdown",
   "metadata": {},
   "source": [
    "### **Configurable parametes**"
   ]
  },
  {
   "cell_type": "code",
   "execution_count": 8,
   "metadata": {},
   "outputs": [
    {
     "data": {
      "text/plain": [
       "True"
      ]
     },
     "execution_count": 8,
     "metadata": {},
     "output_type": "execute_result"
    }
   ],
   "source": [
    "from langchain_core.prompts import PromptTemplate\n",
    "from langchain_mistralai import ChatMistralAI\n",
    "from langchain_core.runnables import ConfigurableField\n",
    "\n",
    "import getpass\n",
    "import os\n",
    "from dotenv import load_dotenv\n",
    "\n",
    "load_dotenv()"
   ]
  },
  {
   "cell_type": "code",
   "execution_count": 2,
   "metadata": {},
   "outputs": [],
   "source": [
    "# Load the API key from the environment\n",
    "def get_mistral_api_key():\n",
    "    key = os.getenv(\"MISTRAL_API_KEY\")\n",
    "    if not key:\n",
    "        key = getpass.getpass(\"Enter your Mistral API key: \")\n",
    "        os.environ[\"MISTRAL_API_KEY\"] = key\n",
    "    return key\n",
    "\n",
    "# Get the Mistral API key\n",
    "mistral_api_key = get_mistral_api_key()"
   ]
  },
  {
   "cell_type": "code",
   "execution_count": 7,
   "metadata": {},
   "outputs": [],
   "source": [
    "model = ChatMistralAI(model=\"mistral-small-2501\", temperature=0, max_retries=2).configurable_fields(\n",
    "    model=ConfigurableField(\n",
    "        id=\"model\",\n",
    "        name=\"model_name\",\n",
    "        description=\"The name of the Mistral model to use.\",\n",
    "        )\n",
    ")"
   ]
  },
  {
   "cell_type": "code",
   "execution_count": 9,
   "metadata": {},
   "outputs": [],
   "source": [
    "prompt = PromptTemplate.from_template(\"Wright Haiku on {subject}\")"
   ]
  },
  {
   "cell_type": "code",
   "execution_count": 10,
   "metadata": {},
   "outputs": [],
   "source": [
    "chain = prompt | model"
   ]
  },
  {
   "cell_type": "code",
   "execution_count": 11,
   "metadata": {},
   "outputs": [
    {
     "data": {
      "text/plain": [
       "AIMessage(content=\"Sure, here are a few haiku inspired by the subject of scat:\\n\\n1.\\nJazz notes take flight,\\nScat singing's improvisation,\\nMelody's delight.\\n\\n2.\\nLa la la la,\\nSaxophone and voice entwine,\\nJoy in every note.\\n\\n3.\\nImprovised song,\\nScat syllables dance and weave,\\nMusic's pure joy.\\n\\n4.\\nVocal jazz magic,\\nScat syllables paint a tune,\\nFreedom in each sound.\\n\\n5.\\nLa la la la,\\nScat singing's playful rhythm,\\nJoy in every beat.\", additional_kwargs={}, response_metadata={'token_usage': {'prompt_tokens': 12, 'total_tokens': 128, 'completion_tokens': 116}, 'model': 'mistral-small-2501', 'finish_reason': 'stop'}, id='run-74cadf01-2f68-4989-b04e-8491780c3fc6-0', usage_metadata={'input_tokens': 12, 'output_tokens': 116, 'total_tokens': 128})"
      ]
     },
     "execution_count": 11,
     "metadata": {},
     "output_type": "execute_result"
    }
   ],
   "source": [
    "chain.invoke(\"subject=scat\")"
   ]
  },
  {
   "cell_type": "code",
   "execution_count": 13,
   "metadata": {},
   "outputs": [
    {
     "data": {
      "text/plain": [
       "AIMessage(content='Whiskers twitching light,\\nFurry grace in shadows dances,\\nFeline alchemy.', additional_kwargs={}, response_metadata={'token_usage': {'prompt_tokens': 13, 'total_tokens': 38, 'completion_tokens': 25}, 'model': 'mistral-small', 'finish_reason': 'stop'}, id='run-6389754e-33fc-4092-86a6-61e6b649acad-0', usage_metadata={'input_tokens': 13, 'output_tokens': 25, 'total_tokens': 38})"
      ]
     },
     "execution_count": 13,
     "metadata": {},
     "output_type": "execute_result"
    }
   ],
   "source": [
    "chain.with_config(configurable={\"model\": \"mistral-small\"}).invoke({\"subject\":\"cat\"})"
   ]
  },
  {
   "cell_type": "code",
   "execution_count": null,
   "metadata": {},
   "outputs": [],
   "source": []
  }
 ],
 "metadata": {
  "kernelspec": {
   "display_name": "llm",
   "language": "python",
   "name": "python3"
  },
  "language_info": {
   "codemirror_mode": {
    "name": "ipython",
    "version": 3
   },
   "file_extension": ".py",
   "mimetype": "text/x-python",
   "name": "python",
   "nbconvert_exporter": "python",
   "pygments_lexer": "ipython3",
   "version": "3.12.8"
  }
 },
 "nbformat": 4,
 "nbformat_minor": 2
}

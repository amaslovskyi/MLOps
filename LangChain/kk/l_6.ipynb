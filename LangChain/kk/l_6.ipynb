{
 "cells": [
  {
   "cell_type": "markdown",
   "metadata": {},
   "source": [
    "### Manipulate the output"
   ]
  },
  {
   "cell_type": "code",
   "execution_count": 1,
   "metadata": {},
   "outputs": [
    {
     "data": {
      "text/plain": [
       "True"
      ]
     },
     "execution_count": 1,
     "metadata": {},
     "output_type": "execute_result"
    }
   ],
   "source": [
    "from langchain_mistralai import ChatMistralAI\n",
    "from langchain_core.prompts import ChatPromptTemplate\n",
    "from langchain_core.output_parsers import StrOutputParser\n",
    "from langchain_core.runnables import RunnableLambda\n",
    "import getpass\n",
    "import os\n",
    "from dotenv import load_dotenv\n",
    "\n",
    "load_dotenv()"
   ]
  },
  {
   "cell_type": "code",
   "execution_count": 2,
   "metadata": {},
   "outputs": [],
   "source": [
    "def get_mistral_api_key():\n",
    "    key = os.getenv(\"MISTRAL_API_KEY\")\n",
    "    if not key:\n",
    "        key = getpass.getpass(\"Enter your Mistral API key: \")\n",
    "        os.environ[\"MISTRAL_API_KEY\"] = key\n",
    "    return key\n",
    "\n",
    "# Get the Mistral API key\n",
    "mistral_api_key = get_mistral_api_key()"
   ]
  },
  {
   "cell_type": "code",
   "execution_count": 12,
   "metadata": {},
   "outputs": [],
   "source": [
    "def get_len(text):\n",
    "    print(text)\n",
    "    return len(text)"
   ]
  },
  {
   "cell_type": "code",
   "execution_count": 9,
   "metadata": {},
   "outputs": [],
   "source": [
    "def to_titlecase(text):\n",
    "    return text.title()"
   ]
  },
  {
   "cell_type": "code",
   "execution_count": 3,
   "metadata": {},
   "outputs": [],
   "source": [
    "prompt = ChatPromptTemplate.from_template(\"Give me a one-line description of {topic}\")"
   ]
  },
  {
   "cell_type": "code",
   "execution_count": 4,
   "metadata": {},
   "outputs": [],
   "source": [
    "model = ChatMistralAI(model=\"mistral-small-2501\",\n",
    "    temperature=0,\n",
    "    max_retries=2,)"
   ]
  },
  {
   "cell_type": "code",
   "execution_count": 5,
   "metadata": {},
   "outputs": [],
   "source": [
    "output_parser = StrOutputParser()"
   ]
  },
  {
   "cell_type": "code",
   "execution_count": 13,
   "metadata": {},
   "outputs": [],
   "source": [
    "chain = prompt | model | output_parser | RunnableLambda(to_titlecase) | RunnableLambda(get_len)"
   ]
  },
  {
   "cell_type": "code",
   "execution_count": 14,
   "metadata": {},
   "outputs": [
    {
     "name": "stdout",
     "output_type": "stream",
     "text": [
      "Ai Is A Branch Of Computer Science Focused On Creating Machines Capable Of Performing Tasks That Typically Require Human Intelligence.\n"
     ]
    },
    {
     "data": {
      "text/plain": [
       "134"
      ]
     },
     "execution_count": 14,
     "metadata": {},
     "output_type": "execute_result"
    }
   ],
   "source": [
    "chain.invoke({\"topic\": \"AI\"})"
   ]
  },
  {
   "cell_type": "code",
   "execution_count": 17,
   "metadata": {},
   "outputs": [
    {
     "name": "stdout",
     "output_type": "stream",
     "text": [
      "Note: you may need to restart the kernel to use updated packages.\n"
     ]
    }
   ],
   "source": [
    "%pip install -Uq grandalf"
   ]
  },
  {
   "cell_type": "code",
   "execution_count": 15,
   "metadata": {},
   "outputs": [
    {
     "data": {
      "text/plain": [
       "Graph(nodes={'4883f76063654ad294caa5d9902f5cae': Node(id='4883f76063654ad294caa5d9902f5cae', name='PromptInput', data=<class 'langchain_core.utils.pydantic.PromptInput'>, metadata=None), '2a0edaf6d0cc48c79c20396aed8dc785': Node(id='2a0edaf6d0cc48c79c20396aed8dc785', name='ChatPromptTemplate', data=ChatPromptTemplate(input_variables=['topic'], input_types={}, partial_variables={}, messages=[HumanMessagePromptTemplate(prompt=PromptTemplate(input_variables=['topic'], input_types={}, partial_variables={}, template='Give me a one-line description of {topic}'), additional_kwargs={})]), metadata=None), '532fbd5ed6464932939d716de0095a5f': Node(id='532fbd5ed6464932939d716de0095a5f', name='ChatMistralAI', data=ChatMistralAI(client=<httpx.Client object at 0x107facbf0>, async_client=<httpx.AsyncClient object at 0x107fac350>, mistral_api_key=SecretStr('**********'), endpoint='https://api.mistral.ai/v1', max_retries=2, model='mistral-small-2501', temperature=0.0), metadata=None), 'fedfce6aedeb431981ef916060d49cf8': Node(id='fedfce6aedeb431981ef916060d49cf8', name='StrOutputParser', data=StrOutputParser(), metadata=None), 'f3c24a5fe076476f84e8b29f9ccf05bd': Node(id='f3c24a5fe076476f84e8b29f9ccf05bd', name='to_titlecase', data=RunnableLambda(to_titlecase), metadata=None), '0a38d6ce1fde4737a53738d655f1c732': Node(id='0a38d6ce1fde4737a53738d655f1c732', name='get_len', data=RunnableLambda(get_len), metadata=None), 'eb7992ab4e43473b9ce85b871ffe4c2c': Node(id='eb7992ab4e43473b9ce85b871ffe4c2c', name='get_len_output', data=<class '__main__.get_len_output'>, metadata=None)}, edges=[Edge(source='4883f76063654ad294caa5d9902f5cae', target='2a0edaf6d0cc48c79c20396aed8dc785', data=None, conditional=False), Edge(source='2a0edaf6d0cc48c79c20396aed8dc785', target='532fbd5ed6464932939d716de0095a5f', data=None, conditional=False), Edge(source='532fbd5ed6464932939d716de0095a5f', target='fedfce6aedeb431981ef916060d49cf8', data=None, conditional=False), Edge(source='fedfce6aedeb431981ef916060d49cf8', target='f3c24a5fe076476f84e8b29f9ccf05bd', data=None, conditional=False), Edge(source='0a38d6ce1fde4737a53738d655f1c732', target='eb7992ab4e43473b9ce85b871ffe4c2c', data=None, conditional=False), Edge(source='f3c24a5fe076476f84e8b29f9ccf05bd', target='0a38d6ce1fde4737a53738d655f1c732', data=None, conditional=False)])"
      ]
     },
     "execution_count": 15,
     "metadata": {},
     "output_type": "execute_result"
    }
   ],
   "source": [
    "chain.get_graph()"
   ]
  },
  {
   "cell_type": "code",
   "execution_count": 18,
   "metadata": {},
   "outputs": [
    {
     "name": "stdout",
     "output_type": "stream",
     "text": [
      "    +-------------+    \n",
      "    | PromptInput |    \n",
      "    +-------------+    \n",
      "           *           \n",
      "           *           \n",
      "           *           \n",
      "+--------------------+ \n",
      "| ChatPromptTemplate | \n",
      "+--------------------+ \n",
      "           *           \n",
      "           *           \n",
      "           *           \n",
      "  +---------------+    \n",
      "  | ChatMistralAI |    \n",
      "  +---------------+    \n",
      "           *           \n",
      "           *           \n",
      "           *           \n",
      "  +-----------------+  \n",
      "  | StrOutputParser |  \n",
      "  +-----------------+  \n",
      "           *           \n",
      "           *           \n",
      "           *           \n",
      "   +--------------+    \n",
      "   | to_titlecase |    \n",
      "   +--------------+    \n",
      "           *           \n",
      "           *           \n",
      "           *           \n",
      "      +---------+      \n",
      "      | get_len |      \n",
      "      +---------+      \n",
      "           *           \n",
      "           *           \n",
      "           *           \n",
      "  +----------------+   \n",
      "  | get_len_output |   \n",
      "  +----------------+   \n"
     ]
    }
   ],
   "source": [
    "chain.get_graph().print_ascii()"
   ]
  },
  {
   "cell_type": "code",
   "execution_count": null,
   "metadata": {},
   "outputs": [],
   "source": []
  }
 ],
 "metadata": {
  "kernelspec": {
   "display_name": "llm",
   "language": "python",
   "name": "python3"
  },
  "language_info": {
   "codemirror_mode": {
    "name": "ipython",
    "version": 3
   },
   "file_extension": ".py",
   "mimetype": "text/x-python",
   "name": "python",
   "nbconvert_exporter": "python",
   "pygments_lexer": "ipython3",
   "version": "3.12.8"
  }
 },
 "nbformat": 4,
 "nbformat_minor": 2
}

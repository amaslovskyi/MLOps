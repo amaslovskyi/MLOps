{
 "cells": [
  {
   "cell_type": "code",
   "execution_count": 2,
   "id": "7b59096f-8ad6-4423-a7b4-0046a9c728c1",
   "metadata": {},
   "outputs": [
    {
     "name": "stdout",
     "output_type": "stream",
     "text": [
      "Note: you may need to restart the kernel to use updated packages.\n",
      "Requirement already satisfied: ollama in /Users/Shatten/.pyenv/versions/3.11.2/lib/python3.11/site-packages (0.4.4)\n",
      "Requirement already satisfied: httpx<0.28.0,>=0.27.0 in /Users/Shatten/.pyenv/versions/3.11.2/lib/python3.11/site-packages (from ollama) (0.27.0)\n",
      "Requirement already satisfied: pydantic<3.0.0,>=2.9.0 in /Users/Shatten/.pyenv/versions/3.11.2/lib/python3.11/site-packages (from ollama) (2.10.3)\n",
      "Requirement already satisfied: anyio in /Users/Shatten/.pyenv/versions/3.11.2/lib/python3.11/site-packages (from httpx<0.28.0,>=0.27.0->ollama) (3.7.0)\n",
      "Requirement already satisfied: certifi in /Users/Shatten/.pyenv/versions/3.11.2/lib/python3.11/site-packages (from httpx<0.28.0,>=0.27.0->ollama) (2024.7.4)\n",
      "Requirement already satisfied: httpcore==1.* in /Users/Shatten/.pyenv/versions/3.11.2/lib/python3.11/site-packages (from httpx<0.28.0,>=0.27.0->ollama) (1.0.5)\n",
      "Requirement already satisfied: idna in /Users/Shatten/.pyenv/versions/3.11.2/lib/python3.11/site-packages (from httpx<0.28.0,>=0.27.0->ollama) (3.4)\n",
      "Requirement already satisfied: sniffio in /Users/Shatten/.pyenv/versions/3.11.2/lib/python3.11/site-packages (from httpx<0.28.0,>=0.27.0->ollama) (1.3.0)\n",
      "Requirement already satisfied: h11<0.15,>=0.13 in /Users/Shatten/.pyenv/versions/3.11.2/lib/python3.11/site-packages (from httpcore==1.*->httpx<0.28.0,>=0.27.0->ollama) (0.14.0)\n",
      "Requirement already satisfied: annotated-types>=0.6.0 in /Users/Shatten/.pyenv/versions/3.11.2/lib/python3.11/site-packages (from pydantic<3.0.0,>=2.9.0->ollama) (0.7.0)\n",
      "Requirement already satisfied: pydantic-core==2.27.1 in /Users/Shatten/.pyenv/versions/3.11.2/lib/python3.11/site-packages (from pydantic<3.0.0,>=2.9.0->ollama) (2.27.1)\n",
      "Requirement already satisfied: typing-extensions>=4.12.2 in /Users/Shatten/.pyenv/versions/3.11.2/lib/python3.11/site-packages (from pydantic<3.0.0,>=2.9.0->ollama) (4.12.2)\n",
      "Note: you may need to restart the kernel to use updated packages.\n",
      "Requirement already satisfied: python-dotenv in /Users/Shatten/.pyenv/versions/3.11.2/lib/python3.11/site-packages (1.0.1)\n",
      "Note: you may need to restart the kernel to use updated packages.\n"
     ]
    }
   ],
   "source": [
    "%pip install -qU langchain-ollama\n",
    "%pip install -U ollama\n",
    "%pip install python-dotenv"
   ]
  },
  {
   "cell_type": "markdown",
   "id": "7930bb1b-ef70-4f8e-93ad-925948fb33ae",
   "metadata": {},
   "source": [
    "### Instantiate:"
   ]
  },
  {
   "cell_type": "code",
   "execution_count": 3,
   "id": "f212fb23-f52e-47a3-9643-1341978d964a",
   "metadata": {},
   "outputs": [
    {
     "data": {
      "text/plain": [
       "False"
      ]
     },
     "execution_count": 3,
     "metadata": {},
     "output_type": "execute_result"
    }
   ],
   "source": [
    "# Import and load environment variables\n",
    "from dotenv import load_dotenv\n",
    "import os\n",
    "\n",
    "# Load environment variables from .env file\n",
    "# load_dotenv('/path/to/your/.env')\n",
    "load_dotenv()"
   ]
  },
  {
   "cell_type": "code",
   "execution_count": 4,
   "id": "c0fe39d6-2685-4925-8238-dd3999150829",
   "metadata": {},
   "outputs": [
    {
     "data": {
      "text/plain": [
       "'Here are 10 potential song title ideas inspired by parrots:\\n\\n1. **\"Flock Together\"** - a catchy, upbeat title that captures the social nature of parrots.\\n2. **\"Rainbow Beak\"** - a nod to the vibrant colors and playful personality of parrots.\\n3. **\"Paradise Found\"** - evoking the idea of exotic islands where parrots are often found in the wild.\\n4. **\"Squawk of Freedom\"** - highlighting the birds\\' ability to mimic human speech and their lively spirit.\\n5. **\"The Color of Joy\"** - inspired by the bright plumage of many parrot species.\\n6. **\"Whispers in the Wild\"** - a more introspective title that captures the idea of parrots communicating with each other in their natural habitat.\\n7. **\"Plumage and Pride\"** - emphasizing the birds\\' stunning feathers and confident demeanor.\\n8. **\"Flight of Fancy\"** - a whimsical title that conveys the sense of freedom and playfulness associated with parrots.\\n9. **\"Beak to Beak\"** - a fun, energetic title that celebrates the social bonding between parrots.\\n10. **\"Winged Words\"** - a poetic title that highlights the unique ability of parrots to mimic human language.\\n\\nI hope these ideas inspire you!'"
      ]
     },
     "execution_count": 4,
     "metadata": {},
     "output_type": "execute_result"
    }
   ],
   "source": [
    "# from langchain_ollama import OllamaLLM\n",
    "from langchain_ollama import ChatOllama\n",
    "\n",
    "llm = ChatOllama(\n",
    "    model = \"llama3.2-vision\",\n",
    "    temperature = 0.8,\n",
    "    num_predict = 256,\n",
    "    # other params ...\n",
    ")\n",
    "\n",
    "# llm = OllamaLLM(model=\"llama3.2-vision\")\n",
    "llm.invoke(\"Come up with 10 names for a song about parrots\")"
   ]
  },
  {
   "cell_type": "markdown",
   "id": "cf0a9bd7-d262-40a4-9f12-a93434ec51fb",
   "metadata": {},
   "source": [
    "https://python.langchain.com/api_reference/ollama/chat_models/langchain_ollama.chat_models.ChatOllama.html"
   ]
  },
  {
   "cell_type": "markdown",
   "id": "d9b1ff9c-6e8e-4e9e-ba5d-58d02fcf560f",
   "metadata": {},
   "source": [
    "### Invoke:"
   ]
  },
  {
   "cell_type": "code",
   "execution_count": 5,
   "id": "c203ca18-700d-4335-8f16-0ce7af3948ba",
   "metadata": {},
   "outputs": [
    {
     "data": {
      "text/plain": [
       "\"Je t'aime traduire ! (Just kidding, that's not what you meant!)\\n\\nTranslation: J'adore programmer.\\n\\nOr more formally: Je suis passionnée par la programmation.\""
      ]
     },
     "execution_count": 5,
     "metadata": {},
     "output_type": "execute_result"
    }
   ],
   "source": [
    "messages = [\n",
    "    (\"system\", \"You are a helpful translator. Translate the user sentence to French.\"),\n",
    "    (\"human\", \"I love programming.\"),\n",
    "]\n",
    "llm.invoke(messages)"
   ]
  },
  {
   "cell_type": "markdown",
   "id": "be86aad1-8a88-470d-819b-7f1e6b2488ee",
   "metadata": {},
   "source": [
    "### Stream:"
   ]
  },
  {
   "cell_type": "code",
   "execution_count": 6,
   "id": "b15b6071-526d-49dd-90ed-ad0c3286b527",
   "metadata": {},
   "outputs": [
    {
     "name": "stdout",
     "output_type": "stream",
     "text": [
      "Hello\n",
      " World\n",
      "!\n",
      "\n"
     ]
    }
   ],
   "source": [
    "messages = [\n",
    "    (\"human\", \"Return the words Hello World!\"),\n",
    "]\n",
    "for chunk in llm.stream(messages):\n",
    "    print(chunk)"
   ]
  },
  {
   "cell_type": "code",
   "execution_count": 7,
   "id": "a2182df5-4c1a-491c-8dc6-fde7aa3ff42a",
   "metadata": {},
   "outputs": [
    {
     "data": {
      "text/plain": [
       "'Hello World!'"
      ]
     },
     "execution_count": 7,
     "metadata": {},
     "output_type": "execute_result"
    }
   ],
   "source": [
    "stream = llm.stream(messages)\n",
    "full = next(stream)\n",
    "for chunk in stream:\n",
    "    full += chunk\n",
    "full"
   ]
  },
  {
   "cell_type": "code",
   "execution_count": null,
   "id": "47f61703-de05-4667-ac6f-f5d2798b9733",
   "metadata": {},
   "outputs": [],
   "source": []
  },
  {
   "cell_type": "code",
   "execution_count": null,
   "id": "7b6b6ed8-d17c-4611-9c8c-858017492e5c",
   "metadata": {},
   "outputs": [],
   "source": []
  }
 ],
 "metadata": {
  "kernelspec": {
   "display_name": "Python 3 (ipykernel)",
   "language": "python",
   "name": "python3"
  },
  "language_info": {
   "codemirror_mode": {
    "name": "ipython",
    "version": 3
   },
   "file_extension": ".py",
   "mimetype": "text/x-python",
   "name": "python",
   "nbconvert_exporter": "python",
   "pygments_lexer": "ipython3",
   "version": "3.11.2"
  }
 },
 "nbformat": 4,
 "nbformat_minor": 5
}

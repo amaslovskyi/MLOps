{
 "cells": [
  {
   "cell_type": "code",
   "metadata": {
    "ExecuteTime": {
     "end_time": "2025-01-04T08:26:18.172073Z",
     "start_time": "2025-01-04T08:26:16.757127Z"
    }
   },
   "source": [
    "import chainlit as cl\n",
    "\n",
    "# from langchain_openai import OpenAI\n",
    "from langchain_ollama import OllamaLLM\n",
    "from langchain.chains import LLMMathChain, LLMChain\n",
    "from langchain.prompts import PromptTemplate\n",
    "from langchain_community.utilities import WikipediaAPIWrapper\n",
    "from langchain.agents.agent_types import AgentType\n",
    "from langchain.agents import Tool, initialize_agent\n",
    "from dotenv import load_dotenv\n",
    "\n",
    "load_dotenv()"
   ],
   "outputs": [
    {
     "data": {
      "text/plain": [
       "True"
      ]
     },
     "execution_count": 1,
     "metadata": {},
     "output_type": "execute_result"
    }
   ],
   "execution_count": 1
  },
  {
   "metadata": {
    "ExecuteTime": {
     "end_time": "2025-01-04T08:26:55.842779Z",
     "start_time": "2025-01-04T08:26:55.693700Z"
    }
   },
   "cell_type": "code",
   "source": [
    "@cl.on_chat_start\n",
    "def math_chatbot():\n",
    "    # llm = OpenAI(model=\"gpt-3.5-turbo-instruct\", temperature=0)\n",
    "    llm = OllamaLLM(model=\"mistral-nemo\", temperature=0)\n",
    "\n",
    "    word_problem_template = \"\"\"You are a reasoning agent tasked with solving the user's logic-based questions.\n",
    "    Logically arrive at the solution, and be factual. In your answers, clearly detail the steps involved and give\n",
    "    the final answer. Provide the response in bullet points. Question  {question} Answer\"\"\"\n",
    "\n",
    "    math_assistant_prompt = PromptTemplate(\n",
    "        input_variables=[\"question\"], template=word_problem_template\n",
    "    )\n",
    "\n",
    "    word_problem_chain = LLMChain(llm=llm, prompt=math_assistant_prompt)\n",
    "    word_problem_tool = Tool.from_function(\n",
    "        name=\"Reasoning Tool\",\n",
    "        func=word_problem_chain.run,\n",
    "        description=\"Useful for when you need to answer logic-based/reasoning  \"\n",
    "        \"questions.\",\n",
    "    )\n",
    "\n",
    "    problem_chain = LLMMathChain.from_llm(llm=llm)\n",
    "    math_tool = Tool.from_function(\n",
    "        name=\"Calculator\",\n",
    "        func=problem_chain.run,\n",
    "        description=\"Useful for when you need to answer numeric questions. This tool is \"\n",
    "        \"only for math questions and nothing else. Only input math \"\n",
    "        \"expressions, without text\",\n",
    "    )\n",
    "\n",
    "    wikipedia = WikipediaAPIWrapper()\n",
    "    # Wikipedia Tool\n",
    "    wikipedia_tool = Tool(\n",
    "        name=\"Wikipedia\",\n",
    "        func=wikipedia.run,\n",
    "        description=\"A useful tool for searching the Internet to find information on world events, issues, dates, \"\n",
    "        \"years, etc. Worth using for general topics. Use precise questions.\",\n",
    "    )\n",
    "\n",
    "    agent = initialize_agent(\n",
    "        tools=[wikipedia_tool, math_tool, word_problem_tool],\n",
    "        llm=llm,\n",
    "        agent=AgentType.ZERO_SHOT_REACT_DESCRIPTION,\n",
    "        verbose=False,\n",
    "        handle_parsing_errors=True,\n",
    "    )\n",
    "    cl.user_session.set(\"agent\", agent)"
   ],
   "outputs": [],
   "execution_count": 2
  },
  {
   "metadata": {
    "ExecuteTime": {
     "end_time": "2025-01-04T08:26:59.659840Z",
     "start_time": "2025-01-04T08:26:59.656567Z"
    }
   },
   "cell_type": "code",
   "source": [
    "@cl.on_message\n",
    "async def process_user_query(message: cl.Message):\n",
    "    agent = cl.user_session.get(\"agent\")\n",
    "\n",
    "    response = await agent.acall(\n",
    "        message.content, callbacks=[cl.AsyncLangchainCallbackHandler()]\n",
    "    )\n",
    "\n",
    "    await cl.Message(response[\"output\"]).send()"
   ],
   "outputs": [],
   "execution_count": 3
  }
 ],
 "metadata": {
  "kernelspec": {
   "display_name": ".venv",
   "language": "python",
   "name": "python3"
  },
  "language_info": {
   "codemirror_mode": {
    "name": "ipython",
    "version": 3
   },
   "file_extension": ".py",
   "mimetype": "text/x-python",
   "name": "python",
   "nbconvert_exporter": "python",
   "pygments_lexer": "ipython3",
   "version": "3.13.1"
  }
 },
 "nbformat": 4,
 "nbformat_minor": 2
}

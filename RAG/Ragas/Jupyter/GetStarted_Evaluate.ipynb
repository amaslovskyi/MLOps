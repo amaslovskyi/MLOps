{
 "cells": [
  {
   "cell_type": "code",
   "execution_count": 2,
   "id": "8e184e52-b3e3-4db3-847d-b0656560d659",
   "metadata": {},
   "outputs": [
    {
     "name": "stdout",
     "output_type": "stream",
     "text": [
      "Requirement already satisfied: langchain-ollama in /Users/Shatten/.pyenv/versions/3.11.2/lib/python3.11/site-packages (0.2.2)\n",
      "Requirement already satisfied: ragas in /Users/Shatten/.pyenv/versions/3.11.2/lib/python3.11/site-packages (0.2.8)\n",
      "Requirement already satisfied: datasets in /Users/Shatten/.pyenv/versions/3.11.2/lib/python3.11/site-packages (3.2.0)\n",
      "Requirement already satisfied: ipywidgets in /Users/Shatten/.pyenv/versions/3.11.2/lib/python3.11/site-packages (8.1.5)\n",
      "Requirement already satisfied: langchain in /Users/Shatten/.pyenv/versions/3.11.2/lib/python3.11/site-packages (0.3.13)\n",
      "Requirement already satisfied: langchain-core<0.4.0,>=0.3.27 in /Users/Shatten/.pyenv/versions/3.11.2/lib/python3.11/site-packages (from langchain-ollama) (0.3.28)\n",
      "Requirement already satisfied: ollama<1,>=0.4.4 in /Users/Shatten/.pyenv/versions/3.11.2/lib/python3.11/site-packages (from langchain-ollama) (0.4.4)\n",
      "Requirement already satisfied: numpy in /Users/Shatten/.pyenv/versions/3.11.2/lib/python3.11/site-packages (from ragas) (1.26.4)\n",
      "Requirement already satisfied: tiktoken in /Users/Shatten/.pyenv/versions/3.11.2/lib/python3.11/site-packages (from ragas) (0.8.0)\n",
      "Requirement already satisfied: langchain-community in /Users/Shatten/.pyenv/versions/3.11.2/lib/python3.11/site-packages (from ragas) (0.3.12)\n",
      "Requirement already satisfied: langchain_openai in /Users/Shatten/.pyenv/versions/3.11.2/lib/python3.11/site-packages (from ragas) (0.2.12)\n",
      "Requirement already satisfied: nest-asyncio in /Users/Shatten/.pyenv/versions/3.11.2/lib/python3.11/site-packages (from ragas) (1.5.6)\n",
      "Requirement already satisfied: appdirs in /Users/Shatten/.pyenv/versions/3.11.2/lib/python3.11/site-packages (from ragas) (1.4.4)\n",
      "Requirement already satisfied: pydantic>=2 in /Users/Shatten/.pyenv/versions/3.11.2/lib/python3.11/site-packages (from ragas) (2.10.3)\n",
      "Requirement already satisfied: openai>1 in /Users/Shatten/.pyenv/versions/3.11.2/lib/python3.11/site-packages (from ragas) (1.57.4)\n",
      "Requirement already satisfied: pysbd>=0.3.4 in /Users/Shatten/.pyenv/versions/3.11.2/lib/python3.11/site-packages (from ragas) (0.3.4)\n",
      "Requirement already satisfied: filelock in /Users/Shatten/.pyenv/versions/3.11.2/lib/python3.11/site-packages (from datasets) (3.15.4)\n",
      "Requirement already satisfied: pyarrow>=15.0.0 in /Users/Shatten/.pyenv/versions/3.11.2/lib/python3.11/site-packages (from datasets) (17.0.0)\n",
      "Requirement already satisfied: dill<0.3.9,>=0.3.0 in /Users/Shatten/.pyenv/versions/3.11.2/lib/python3.11/site-packages (from datasets) (0.3.8)\n",
      "Requirement already satisfied: pandas in /Users/Shatten/.pyenv/versions/3.11.2/lib/python3.11/site-packages (from datasets) (2.2.2)\n",
      "Requirement already satisfied: requests>=2.32.2 in /Users/Shatten/.pyenv/versions/3.11.2/lib/python3.11/site-packages (from datasets) (2.32.3)\n",
      "Requirement already satisfied: tqdm>=4.66.3 in /Users/Shatten/.pyenv/versions/3.11.2/lib/python3.11/site-packages (from datasets) (4.66.4)\n",
      "Requirement already satisfied: xxhash in /Users/Shatten/.pyenv/versions/3.11.2/lib/python3.11/site-packages (from datasets) (3.5.0)\n",
      "Requirement already satisfied: multiprocess<0.70.17 in /Users/Shatten/.pyenv/versions/3.11.2/lib/python3.11/site-packages (from datasets) (0.70.16)\n",
      "Requirement already satisfied: fsspec<=2024.9.0,>=2023.1.0 in /Users/Shatten/.pyenv/versions/3.11.2/lib/python3.11/site-packages (from fsspec[http]<=2024.9.0,>=2023.1.0->datasets) (2024.6.1)\n",
      "Requirement already satisfied: aiohttp in /Users/Shatten/.pyenv/versions/3.11.2/lib/python3.11/site-packages (from datasets) (3.9.5)\n",
      "Requirement already satisfied: huggingface-hub>=0.23.0 in /Users/Shatten/.pyenv/versions/3.11.2/lib/python3.11/site-packages (from datasets) (0.24.2)\n",
      "Requirement already satisfied: packaging in /Users/Shatten/.pyenv/versions/3.11.2/lib/python3.11/site-packages (from datasets) (24.2)\n",
      "Requirement already satisfied: pyyaml>=5.1 in /Users/Shatten/.pyenv/versions/3.11.2/lib/python3.11/site-packages (from datasets) (6.0)\n",
      "Requirement already satisfied: comm>=0.1.3 in /Users/Shatten/.pyenv/versions/3.11.2/lib/python3.11/site-packages (from ipywidgets) (0.1.3)\n",
      "Requirement already satisfied: ipython>=6.1.0 in /Users/Shatten/.pyenv/versions/3.11.2/lib/python3.11/site-packages (from ipywidgets) (8.14.0)\n",
      "Requirement already satisfied: traitlets>=4.3.1 in /Users/Shatten/.pyenv/versions/3.11.2/lib/python3.11/site-packages (from ipywidgets) (5.9.0)\n",
      "Requirement already satisfied: widgetsnbextension~=4.0.12 in /Users/Shatten/.pyenv/versions/3.11.2/lib/python3.11/site-packages (from ipywidgets) (4.0.13)\n",
      "Requirement already satisfied: jupyterlab-widgets~=3.0.12 in /Users/Shatten/.pyenv/versions/3.11.2/lib/python3.11/site-packages (from ipywidgets) (3.0.13)\n",
      "Requirement already satisfied: SQLAlchemy<3,>=1.4 in /Users/Shatten/.pyenv/versions/3.11.2/lib/python3.11/site-packages (from langchain) (2.0.35)\n",
      "Requirement already satisfied: langchain-text-splitters<0.4.0,>=0.3.3 in /Users/Shatten/.pyenv/versions/3.11.2/lib/python3.11/site-packages (from langchain) (0.3.3)\n",
      "Requirement already satisfied: langsmith<0.3,>=0.1.17 in /Users/Shatten/.pyenv/versions/3.11.2/lib/python3.11/site-packages (from langchain) (0.2.3)\n",
      "Requirement already satisfied: tenacity!=8.4.0,<10,>=8.1.0 in /Users/Shatten/.pyenv/versions/3.11.2/lib/python3.11/site-packages (from langchain) (9.0.0)\n",
      "Requirement already satisfied: aiosignal>=1.1.2 in /Users/Shatten/.pyenv/versions/3.11.2/lib/python3.11/site-packages (from aiohttp->datasets) (1.3.1)\n",
      "Requirement already satisfied: attrs>=17.3.0 in /Users/Shatten/.pyenv/versions/3.11.2/lib/python3.11/site-packages (from aiohttp->datasets) (23.1.0)\n",
      "Requirement already satisfied: frozenlist>=1.1.1 in /Users/Shatten/.pyenv/versions/3.11.2/lib/python3.11/site-packages (from aiohttp->datasets) (1.4.1)\n",
      "Requirement already satisfied: multidict<7.0,>=4.5 in /Users/Shatten/.pyenv/versions/3.11.2/lib/python3.11/site-packages (from aiohttp->datasets) (6.0.5)\n",
      "Requirement already satisfied: yarl<2.0,>=1.0 in /Users/Shatten/.pyenv/versions/3.11.2/lib/python3.11/site-packages (from aiohttp->datasets) (1.9.4)\n",
      "Requirement already satisfied: typing-extensions>=3.7.4.3 in /Users/Shatten/.pyenv/versions/3.11.2/lib/python3.11/site-packages (from huggingface-hub>=0.23.0->datasets) (4.12.2)\n",
      "Requirement already satisfied: backcall in /Users/Shatten/.pyenv/versions/3.11.2/lib/python3.11/site-packages (from ipython>=6.1.0->ipywidgets) (0.2.0)\n",
      "Requirement already satisfied: decorator in /Users/Shatten/.pyenv/versions/3.11.2/lib/python3.11/site-packages (from ipython>=6.1.0->ipywidgets) (5.1.1)\n",
      "Requirement already satisfied: jedi>=0.16 in /Users/Shatten/.pyenv/versions/3.11.2/lib/python3.11/site-packages (from ipython>=6.1.0->ipywidgets) (0.18.2)\n",
      "Requirement already satisfied: matplotlib-inline in /Users/Shatten/.pyenv/versions/3.11.2/lib/python3.11/site-packages (from ipython>=6.1.0->ipywidgets) (0.1.6)\n",
      "Requirement already satisfied: pickleshare in /Users/Shatten/.pyenv/versions/3.11.2/lib/python3.11/site-packages (from ipython>=6.1.0->ipywidgets) (0.7.5)\n",
      "Requirement already satisfied: prompt-toolkit!=3.0.37,<3.1.0,>=3.0.30 in /Users/Shatten/.pyenv/versions/3.11.2/lib/python3.11/site-packages (from ipython>=6.1.0->ipywidgets) (3.0.38)\n",
      "Requirement already satisfied: pygments>=2.4.0 in /Users/Shatten/.pyenv/versions/3.11.2/lib/python3.11/site-packages (from ipython>=6.1.0->ipywidgets) (2.15.1)\n",
      "Requirement already satisfied: stack-data in /Users/Shatten/.pyenv/versions/3.11.2/lib/python3.11/site-packages (from ipython>=6.1.0->ipywidgets) (0.6.2)\n",
      "Requirement already satisfied: pexpect>4.3 in /Users/Shatten/.pyenv/versions/3.11.2/lib/python3.11/site-packages (from ipython>=6.1.0->ipywidgets) (4.8.0)\n",
      "Requirement already satisfied: appnope in /Users/Shatten/.pyenv/versions/3.11.2/lib/python3.11/site-packages (from ipython>=6.1.0->ipywidgets) (0.1.3)\n",
      "Requirement already satisfied: jsonpatch<2.0,>=1.33 in /Users/Shatten/.pyenv/versions/3.11.2/lib/python3.11/site-packages (from langchain-core<0.4.0,>=0.3.27->langchain-ollama) (1.33)\n",
      "Requirement already satisfied: httpx<1,>=0.23.0 in /Users/Shatten/.pyenv/versions/3.11.2/lib/python3.11/site-packages (from langsmith<0.3,>=0.1.17->langchain) (0.27.0)\n",
      "Requirement already satisfied: orjson<4.0.0,>=3.9.14 in /Users/Shatten/.pyenv/versions/3.11.2/lib/python3.11/site-packages (from langsmith<0.3,>=0.1.17->langchain) (3.10.6)\n",
      "Requirement already satisfied: requests-toolbelt<2.0.0,>=1.0.0 in /Users/Shatten/.pyenv/versions/3.11.2/lib/python3.11/site-packages (from langsmith<0.3,>=0.1.17->langchain) (1.0.0)\n",
      "Requirement already satisfied: anyio<5,>=3.5.0 in /Users/Shatten/.pyenv/versions/3.11.2/lib/python3.11/site-packages (from openai>1->ragas) (3.7.0)\n",
      "Requirement already satisfied: distro<2,>=1.7.0 in /Users/Shatten/.pyenv/versions/3.11.2/lib/python3.11/site-packages (from openai>1->ragas) (1.9.0)\n",
      "Requirement already satisfied: jiter<1,>=0.4.0 in /Users/Shatten/.pyenv/versions/3.11.2/lib/python3.11/site-packages (from openai>1->ragas) (0.8.2)\n",
      "Requirement already satisfied: sniffio in /Users/Shatten/.pyenv/versions/3.11.2/lib/python3.11/site-packages (from openai>1->ragas) (1.3.0)\n",
      "Requirement already satisfied: annotated-types>=0.6.0 in /Users/Shatten/.pyenv/versions/3.11.2/lib/python3.11/site-packages (from pydantic>=2->ragas) (0.7.0)\n",
      "Requirement already satisfied: pydantic-core==2.27.1 in /Users/Shatten/.pyenv/versions/3.11.2/lib/python3.11/site-packages (from pydantic>=2->ragas) (2.27.1)\n",
      "Requirement already satisfied: charset-normalizer<4,>=2 in /Users/Shatten/.pyenv/versions/3.11.2/lib/python3.11/site-packages (from requests>=2.32.2->datasets) (3.3.2)\n",
      "Requirement already satisfied: idna<4,>=2.5 in /Users/Shatten/.pyenv/versions/3.11.2/lib/python3.11/site-packages (from requests>=2.32.2->datasets) (3.4)\n",
      "Requirement already satisfied: urllib3<3,>=1.21.1 in /Users/Shatten/.pyenv/versions/3.11.2/lib/python3.11/site-packages (from requests>=2.32.2->datasets) (2.2.1)\n",
      "Requirement already satisfied: certifi>=2017.4.17 in /Users/Shatten/.pyenv/versions/3.11.2/lib/python3.11/site-packages (from requests>=2.32.2->datasets) (2024.7.4)\n",
      "Requirement already satisfied: dataclasses-json<0.7,>=0.5.7 in /Users/Shatten/.pyenv/versions/3.11.2/lib/python3.11/site-packages (from langchain-community->ragas) (0.6.7)\n",
      "Requirement already satisfied: httpx-sse<0.5.0,>=0.4.0 in /Users/Shatten/.pyenv/versions/3.11.2/lib/python3.11/site-packages (from langchain-community->ragas) (0.4.0)\n",
      "Requirement already satisfied: pydantic-settings<3.0.0,>=2.4.0 in /Users/Shatten/.pyenv/versions/3.11.2/lib/python3.11/site-packages (from langchain-community->ragas) (2.7.0)\n",
      "Requirement already satisfied: regex>=2022.1.18 in /Users/Shatten/.pyenv/versions/3.11.2/lib/python3.11/site-packages (from tiktoken->ragas) (2024.7.24)\n",
      "Requirement already satisfied: python-dateutil>=2.8.2 in /Users/Shatten/.pyenv/versions/3.11.2/lib/python3.11/site-packages (from pandas->datasets) (2.8.2)\n",
      "Requirement already satisfied: pytz>=2020.1 in /Users/Shatten/.pyenv/versions/3.11.2/lib/python3.11/site-packages (from pandas->datasets) (2024.1)\n",
      "Requirement already satisfied: tzdata>=2022.7 in /Users/Shatten/.pyenv/versions/3.11.2/lib/python3.11/site-packages (from pandas->datasets) (2024.1)\n",
      "Requirement already satisfied: marshmallow<4.0.0,>=3.18.0 in /Users/Shatten/.pyenv/versions/3.11.2/lib/python3.11/site-packages (from dataclasses-json<0.7,>=0.5.7->langchain-community->ragas) (3.23.1)\n",
      "Requirement already satisfied: typing-inspect<1,>=0.4.0 in /Users/Shatten/.pyenv/versions/3.11.2/lib/python3.11/site-packages (from dataclasses-json<0.7,>=0.5.7->langchain-community->ragas) (0.9.0)\n",
      "Requirement already satisfied: httpcore==1.* in /Users/Shatten/.pyenv/versions/3.11.2/lib/python3.11/site-packages (from httpx<1,>=0.23.0->langsmith<0.3,>=0.1.17->langchain) (1.0.5)\n",
      "Requirement already satisfied: h11<0.15,>=0.13 in /Users/Shatten/.pyenv/versions/3.11.2/lib/python3.11/site-packages (from httpcore==1.*->httpx<1,>=0.23.0->langsmith<0.3,>=0.1.17->langchain) (0.14.0)\n",
      "Requirement already satisfied: parso<0.9.0,>=0.8.0 in /Users/Shatten/.pyenv/versions/3.11.2/lib/python3.11/site-packages (from jedi>=0.16->ipython>=6.1.0->ipywidgets) (0.8.3)\n",
      "Requirement already satisfied: jsonpointer>=1.9 in /Users/Shatten/.pyenv/versions/3.11.2/lib/python3.11/site-packages (from jsonpatch<2.0,>=1.33->langchain-core<0.4.0,>=0.3.27->langchain-ollama) (2.4)\n",
      "Requirement already satisfied: ptyprocess>=0.5 in /Users/Shatten/.pyenv/versions/3.11.2/lib/python3.11/site-packages (from pexpect>4.3->ipython>=6.1.0->ipywidgets) (0.7.0)\n",
      "Requirement already satisfied: wcwidth in /Users/Shatten/.pyenv/versions/3.11.2/lib/python3.11/site-packages (from prompt-toolkit!=3.0.37,<3.1.0,>=3.0.30->ipython>=6.1.0->ipywidgets) (0.2.13)\n",
      "Requirement already satisfied: python-dotenv>=0.21.0 in /Users/Shatten/.pyenv/versions/3.11.2/lib/python3.11/site-packages (from pydantic-settings<3.0.0,>=2.4.0->langchain-community->ragas) (1.0.1)\n",
      "Requirement already satisfied: six>=1.5 in /Users/Shatten/.pyenv/versions/3.11.2/lib/python3.11/site-packages (from python-dateutil>=2.8.2->pandas->datasets) (1.16.0)\n",
      "Requirement already satisfied: executing>=1.2.0 in /Users/Shatten/.pyenv/versions/3.11.2/lib/python3.11/site-packages (from stack-data->ipython>=6.1.0->ipywidgets) (1.2.0)\n",
      "Requirement already satisfied: asttokens>=2.1.0 in /Users/Shatten/.pyenv/versions/3.11.2/lib/python3.11/site-packages (from stack-data->ipython>=6.1.0->ipywidgets) (2.2.1)\n",
      "Requirement already satisfied: pure-eval in /Users/Shatten/.pyenv/versions/3.11.2/lib/python3.11/site-packages (from stack-data->ipython>=6.1.0->ipywidgets) (0.2.2)\n",
      "Requirement already satisfied: mypy-extensions>=0.3.0 in /Users/Shatten/.pyenv/versions/3.11.2/lib/python3.11/site-packages (from typing-inspect<1,>=0.4.0->dataclasses-json<0.7,>=0.5.7->langchain-community->ragas) (1.0.0)\n",
      "Note: you may need to restart the kernel to use updated packages.\n"
     ]
    }
   ],
   "source": [
    "# Install required packages\n",
    "%pip install -U langchain-ollama ragas datasets ipywidgets langchain"
   ]
  },
  {
   "cell_type": "code",
   "execution_count": 18,
   "id": "c8f61172-a0c6-46c7-bbd3-9651d0616d7a",
   "metadata": {},
   "outputs": [],
   "source": [
    "# Import necessary modules\n",
    "from langchain_core.prompts import ChatPromptTemplate\n",
    "from langchain_ollama.llms import OllamaLLM\n",
    "from datasets import load_dataset\n",
    "from ragas import EvaluationDataset, evaluate\n",
    "from ragas.metrics import LLMContextRecall, Faithfulness, FactualCorrectness, SemanticSimilarity\n",
    "from ragas.llms import LlamaIndexLLMWrapper"
   ]
  },
  {
   "cell_type": "code",
   "execution_count": 19,
   "id": "ac94e916-8baf-44c3-9a29-d112e2d4e655",
   "metadata": {},
   "outputs": [],
   "source": [
    "# Initialize the OllamaLLM model\n",
    "model = OllamaLLM(model=\"llama3.2-vision\", temperature=0.9)"
   ]
  },
  {
   "cell_type": "code",
   "execution_count": 20,
   "id": "a1e8db25-9a20-420c-be1d-20b3dc9510bf",
   "metadata": {},
   "outputs": [
    {
     "name": "stderr",
     "output_type": "stream",
     "text": [
      "Repo card metadata block was not found. Setting CardData to empty.\n"
     ]
    }
   ],
   "source": [
    "# Load the dataset\n",
    "dataset = load_dataset(\n",
    "    \"explodinggradients/amnesty_qa\",\n",
    "    \"english_v3\",\n",
    "    trust_remote_code=True\n",
    ")"
   ]
  },
  {
   "cell_type": "code",
   "execution_count": 21,
   "id": "7f8d0f9d-5d15-4aab-8e73-257de3e8b48c",
   "metadata": {},
   "outputs": [],
   "source": [
    "# Create the evaluation dataset\n",
    "eval_dataset = EvaluationDataset.from_hf_dataset(dataset[\"eval\"])"
   ]
  },
  {
   "cell_type": "markdown",
   "id": "b15477e2-5c4e-4c90-9c6a-4e5fe02fd009",
   "metadata": {},
   "source": [
    "## Choosing evaluator LLM"
   ]
  },
  {
   "cell_type": "code",
   "execution_count": 22,
   "id": "2f30783a-11b6-4ab4-9d17-316d94929718",
   "metadata": {},
   "outputs": [],
   "source": [
    "# Initialize the evaluator LLM\n",
    "evaluator_llm = LlamaIndexLLMWrapper(model)"
   ]
  },
  {
   "cell_type": "code",
   "execution_count": 23,
   "id": "7a15d288-80ea-4206-9a8f-ea58eb10bbec",
   "metadata": {},
   "outputs": [],
   "source": [
    "# Initialize the embeddings (you need to define this)\n",
    "# For example, you could use SentenceTransformer embeddings:\n",
    "from sentence_transformers import SentenceTransformer\n",
    "evaluator_embeddings = SentenceTransformer('all-MiniLM-L6-v2')"
   ]
  },
  {
   "cell_type": "code",
   "execution_count": 24,
   "id": "62832dec-20f6-4bdb-9d5a-eed65ff3113a",
   "metadata": {},
   "outputs": [],
   "source": [
    "# Define the metrics\n",
    "metrics = [\n",
    "    SemanticSimilarity(embeddings=evaluator_embeddings)\n",
    "]"
   ]
  },
  {
   "cell_type": "code",
   "execution_count": 25,
   "id": "15cf1a27-0384-44e4-8ee6-33be17f8d9aa",
   "metadata": {},
   "outputs": [
    {
     "ename": "AttributeError",
     "evalue": "'SentenceTransformer' object has no attribute 'set_run_config'",
     "output_type": "error",
     "traceback": [
      "\u001b[0;31m---------------------------------------------------------------------------\u001b[0m",
      "\u001b[0;31mAttributeError\u001b[0m                            Traceback (most recent call last)",
      "Cell \u001b[0;32mIn[25], line 2\u001b[0m\n\u001b[1;32m      1\u001b[0m \u001b[38;5;66;03m# Perform the evaluation\u001b[39;00m\n\u001b[0;32m----> 2\u001b[0m results \u001b[38;5;241m=\u001b[39m \u001b[43mevaluate\u001b[49m\u001b[43m(\u001b[49m\u001b[43mdataset\u001b[49m\u001b[38;5;241;43m=\u001b[39;49m\u001b[43meval_dataset\u001b[49m\u001b[43m,\u001b[49m\u001b[43m \u001b[49m\u001b[43mmetrics\u001b[49m\u001b[38;5;241;43m=\u001b[39;49m\u001b[43mmetrics\u001b[49m\u001b[43m)\u001b[49m\n",
      "File \u001b[0;32m~/.pyenv/versions/3.11.2/lib/python3.11/site-packages/ragas/_analytics.py:205\u001b[0m, in \u001b[0;36mtrack_was_completed.<locals>.wrapper\u001b[0;34m(*args, **kwargs)\u001b[0m\n\u001b[1;32m    202\u001b[0m \u001b[38;5;129m@wraps\u001b[39m(func)\n\u001b[1;32m    203\u001b[0m \u001b[38;5;28;01mdef\u001b[39;00m \u001b[38;5;21mwrapper\u001b[39m(\u001b[38;5;241m*\u001b[39margs: P\u001b[38;5;241m.\u001b[39margs, \u001b[38;5;241m*\u001b[39m\u001b[38;5;241m*\u001b[39mkwargs: P\u001b[38;5;241m.\u001b[39mkwargs) \u001b[38;5;241m-\u001b[39m\u001b[38;5;241m>\u001b[39m t\u001b[38;5;241m.\u001b[39mAny:\n\u001b[1;32m    204\u001b[0m     track(IsCompleteEvent(event_type\u001b[38;5;241m=\u001b[39mfunc\u001b[38;5;241m.\u001b[39m\u001b[38;5;18m__name__\u001b[39m, is_completed\u001b[38;5;241m=\u001b[39m\u001b[38;5;28;01mFalse\u001b[39;00m))\n\u001b[0;32m--> 205\u001b[0m     result \u001b[38;5;241m=\u001b[39m \u001b[43mfunc\u001b[49m\u001b[43m(\u001b[49m\u001b[38;5;241;43m*\u001b[39;49m\u001b[43margs\u001b[49m\u001b[43m,\u001b[49m\u001b[43m \u001b[49m\u001b[38;5;241;43m*\u001b[39;49m\u001b[38;5;241;43m*\u001b[39;49m\u001b[43mkwargs\u001b[49m\u001b[43m)\u001b[49m\n\u001b[1;32m    206\u001b[0m     track(IsCompleteEvent(event_type\u001b[38;5;241m=\u001b[39mfunc\u001b[38;5;241m.\u001b[39m\u001b[38;5;18m__name__\u001b[39m, is_completed\u001b[38;5;241m=\u001b[39m\u001b[38;5;28;01mTrue\u001b[39;00m))\n\u001b[1;32m    208\u001b[0m     \u001b[38;5;28;01mreturn\u001b[39;00m result\n",
      "File \u001b[0;32m~/.pyenv/versions/3.11.2/lib/python3.11/site-packages/ragas/evaluation.py:225\u001b[0m, in \u001b[0;36mevaluate\u001b[0;34m(dataset, metrics, llm, embeddings, callbacks, in_ci, run_config, token_usage_parser, raise_exceptions, column_map, show_progress, batch_size, _run_id, _pbar)\u001b[0m\n\u001b[1;32m    222\u001b[0m             reproducable_metrics\u001b[38;5;241m.\u001b[39mappend(i)\n\u001b[1;32m    224\u001b[0m     \u001b[38;5;66;03m# init all the models\u001b[39;00m\n\u001b[0;32m--> 225\u001b[0m     \u001b[43mmetric\u001b[49m\u001b[38;5;241;43m.\u001b[39;49m\u001b[43minit\u001b[49m\u001b[43m(\u001b[49m\u001b[43mrun_config\u001b[49m\u001b[43m)\u001b[49m\n\u001b[1;32m    227\u001b[0m executor \u001b[38;5;241m=\u001b[39m Executor(\n\u001b[1;32m    228\u001b[0m     desc\u001b[38;5;241m=\u001b[39m\u001b[38;5;124m\"\u001b[39m\u001b[38;5;124mEvaluating\u001b[39m\u001b[38;5;124m\"\u001b[39m,\n\u001b[1;32m    229\u001b[0m     keep_progress_bar\u001b[38;5;241m=\u001b[39m\u001b[38;5;28;01mTrue\u001b[39;00m,\n\u001b[0;32m   (...)\u001b[0m\n\u001b[1;32m    234\u001b[0m     pbar\u001b[38;5;241m=\u001b[39m_pbar,\n\u001b[1;32m    235\u001b[0m )\n\u001b[1;32m    237\u001b[0m \u001b[38;5;66;03m# Ragas Callbacks\u001b[39;00m\n\u001b[1;32m    238\u001b[0m \u001b[38;5;66;03m# init the callbacks we need for various tasks\u001b[39;00m\n",
      "File \u001b[0;32m~/.pyenv/versions/3.11.2/lib/python3.11/site-packages/ragas/metrics/base.py:402\u001b[0m, in \u001b[0;36mMetricWithEmbeddings.init\u001b[0;34m(self, run_config)\u001b[0m\n\u001b[1;32m    398\u001b[0m \u001b[38;5;28;01mif\u001b[39;00m \u001b[38;5;28mself\u001b[39m\u001b[38;5;241m.\u001b[39membeddings \u001b[38;5;129;01mis\u001b[39;00m \u001b[38;5;28;01mNone\u001b[39;00m:\n\u001b[1;32m    399\u001b[0m     \u001b[38;5;28;01mraise\u001b[39;00m \u001b[38;5;167;01mValueError\u001b[39;00m(\n\u001b[1;32m    400\u001b[0m         \u001b[38;5;124mf\u001b[39m\u001b[38;5;124m\"\u001b[39m\u001b[38;5;124mMetric \u001b[39m\u001b[38;5;124m'\u001b[39m\u001b[38;5;132;01m{\u001b[39;00m\u001b[38;5;28mself\u001b[39m\u001b[38;5;241m.\u001b[39mname\u001b[38;5;132;01m}\u001b[39;00m\u001b[38;5;124m'\u001b[39m\u001b[38;5;124m has no valid embeddings provided (self.embeddings is None). Please initantiate a the metric with an embeddings to run.\u001b[39m\u001b[38;5;124m\"\u001b[39m  \u001b[38;5;66;03m# noqa\u001b[39;00m\n\u001b[1;32m    401\u001b[0m     )\n\u001b[0;32m--> 402\u001b[0m \u001b[38;5;28;43mself\u001b[39;49m\u001b[38;5;241;43m.\u001b[39;49m\u001b[43membeddings\u001b[49m\u001b[38;5;241;43m.\u001b[39;49m\u001b[43mset_run_config\u001b[49m(run_config)\n",
      "File \u001b[0;32m~/.pyenv/versions/3.11.2/lib/python3.11/site-packages/torch/nn/modules/module.py:1729\u001b[0m, in \u001b[0;36mModule.__getattr__\u001b[0;34m(self, name)\u001b[0m\n\u001b[1;32m   1727\u001b[0m     \u001b[38;5;28;01mif\u001b[39;00m name \u001b[38;5;129;01min\u001b[39;00m modules:\n\u001b[1;32m   1728\u001b[0m         \u001b[38;5;28;01mreturn\u001b[39;00m modules[name]\n\u001b[0;32m-> 1729\u001b[0m \u001b[38;5;28;01mraise\u001b[39;00m \u001b[38;5;167;01mAttributeError\u001b[39;00m(\u001b[38;5;124mf\u001b[39m\u001b[38;5;124m\"\u001b[39m\u001b[38;5;124m'\u001b[39m\u001b[38;5;132;01m{\u001b[39;00m\u001b[38;5;28mtype\u001b[39m(\u001b[38;5;28mself\u001b[39m)\u001b[38;5;241m.\u001b[39m\u001b[38;5;18m__name__\u001b[39m\u001b[38;5;132;01m}\u001b[39;00m\u001b[38;5;124m'\u001b[39m\u001b[38;5;124m object has no attribute \u001b[39m\u001b[38;5;124m'\u001b[39m\u001b[38;5;132;01m{\u001b[39;00mname\u001b[38;5;132;01m}\u001b[39;00m\u001b[38;5;124m'\u001b[39m\u001b[38;5;124m\"\u001b[39m)\n",
      "\u001b[0;31mAttributeError\u001b[0m: 'SentenceTransformer' object has no attribute 'set_run_config'"
     ]
    }
   ],
   "source": [
    "# Perform the evaluation\n",
    "results = evaluate(dataset=eval_dataset, metrics=metrics)"
   ]
  },
  {
   "cell_type": "code",
   "execution_count": 24,
   "id": "64d77516-54eb-4c9e-87cc-c43dd7da1e65",
   "metadata": {},
   "outputs": [
    {
     "ename": "NameError",
     "evalue": "name 'results' is not defined",
     "output_type": "error",
     "traceback": [
      "\u001b[0;31m---------------------------------------------------------------------------\u001b[0m",
      "\u001b[0;31mNameError\u001b[0m                                 Traceback (most recent call last)",
      "Cell \u001b[0;32mIn[24], line 1\u001b[0m\n\u001b[0;32m----> 1\u001b[0m \u001b[38;5;28mprint\u001b[39m(\u001b[43mresults\u001b[49m)\n",
      "\u001b[0;31mNameError\u001b[0m: name 'results' is not defined"
     ]
    }
   ],
   "source": [
    "print(results)"
   ]
  },
  {
   "cell_type": "code",
   "execution_count": null,
   "id": "235b7c41-14ac-4a4d-bdb7-46eb4ff852c8",
   "metadata": {},
   "outputs": [],
   "source": []
  }
 ],
 "metadata": {
  "kernelspec": {
   "display_name": ".venv",
   "language": "python",
   "name": "python3"
  },
  "language_info": {
   "name": "python",
   "version": "3.13.1"
  }
 },
 "nbformat": 4,
 "nbformat_minor": 5
}
